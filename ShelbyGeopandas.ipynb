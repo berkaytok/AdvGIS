{
 "cells": [
  {
   "cell_type": "code",
   "execution_count": null,
   "metadata": {
    "collapsed": true
   },
   "outputs": [],
   "source": [
    "import geopandas as gpd\n",
    "import fiona\n",
    "\n",
    "df = gpd.read_file(r'E:\\Dataspell Projects E\\AdvGIS\\data\\Shelby.gdb.zip', driver='FileGDB', layer=0)\n",
    "fiona.listlayers(r'E:\\Dataspell Projects E\\AdvGIS\\data\\Shelby.gdb.zip')"
   ]
  },
  {
   "cell_type": "code",
   "execution_count": null,
   "outputs": [],
   "source": [
    "county = gpd.read_file(r'E:\\Dataspell Projects E\\AdvGIS\\data\\Shelby.gdb.zip', driver='FileGDB', layer='County_shelby')\n",
    "schools = gpd.read_file(r'E:\\Dataspell Projects E\\AdvGIS\\data\\Shelby.gdb.zip', driver='FileGDB', layer='School_shelby')\n",
    "libraries = gpd.read_file(r'E:\\Dataspell Projects E\\AdvGIS\\data\\Shelby.gdb.zip', driver='FileGDB', layer='Library_shelby')\n",
    "parks = gpd.read_file(r'E:\\Dataspell Projects E\\AdvGIS\\data\\Shelby.gdb.zip', driver='FileGDB', layer='Parks_shelby')\n",
    "fire = gpd.read_file(r'E:\\Dataspell Projects E\\AdvGIS\\data\\Shelby.gdb.zip', driver='FileGDB', layer='Fire_shelby')\n",
    "law = gpd.read_file(r'E:\\Dataspell Projects E\\AdvGIS\\data\\Shelby.gdb.zip', driver='FileGDB', layer='Law_Enforcement_shelby')"
   ],
   "metadata": {
    "collapsed": false,
    "pycharm": {
     "name": "#%%\n"
    }
   }
  },
  {
   "cell_type": "code",
   "execution_count": null,
   "outputs": [],
   "source": [
    "# distance(): returns Series with minimum distance from each entry to other\n",
    "schools.distance(parks)"
   ],
   "metadata": {
    "collapsed": false,
    "pycharm": {
     "name": "#%%\n"
    }
   }
  },
  {
   "cell_type": "code",
   "execution_count": null,
   "outputs": [],
   "source": [
    "# Returns a GeoSeries of points for each geometric centroid\n",
    "schools.centroid"
   ],
   "metadata": {
    "collapsed": false,
    "pycharm": {
     "name": "#%%\n"
    }
   }
  },
  {
   "cell_type": "code",
   "execution_count": null,
   "outputs": [],
   "source": [
    "# Returns a GeoSeries of (cheaply computed) points that are guaranteed to be within each geometry\n",
    "schools.representative_point()"
   ],
   "metadata": {
    "collapsed": false,
    "pycharm": {
     "name": "#%%\n"
    }
   }
  },
  {
   "cell_type": "code",
   "execution_count": null,
   "outputs": [],
   "source": [
    "# check coordinate system\n",
    "schools.crs\n",
    "# reproject to WGS84\n",
    "schoolswgs = schools.to_crs(3857)\n",
    "# plot\n",
    "schools.plot()\n",
    "# almost equals\n",
    "schoolswgs.geom_almost_equals(schools)"
   ],
   "metadata": {
    "collapsed": false,
    "pycharm": {
     "name": "#%%\n"
    }
   }
  },
  {
   "cell_type": "code",
   "execution_count": null,
   "outputs": [],
   "source": [
    "# ! come back to this\n",
    "county.contains(law)"
   ],
   "metadata": {
    "collapsed": false,
    "pycharm": {
     "name": "#%%\n"
    }
   }
  },
  {
   "cell_type": "code",
   "execution_count": null,
   "outputs": [],
   "source": [],
   "metadata": {
    "collapsed": false,
    "pycharm": {
     "name": "#%%\n"
    }
   }
  }
 ],
 "metadata": {
  "kernelspec": {
   "display_name": "Python 3",
   "language": "python",
   "name": "python3"
  },
  "language_info": {
   "codemirror_mode": {
    "name": "ipython",
    "version": 2
   },
   "file_extension": ".py",
   "mimetype": "text/x-python",
   "name": "python",
   "nbconvert_exporter": "python",
   "pygments_lexer": "ipython2",
   "version": "2.7.6"
  }
 },
 "nbformat": 4,
 "nbformat_minor": 0
}