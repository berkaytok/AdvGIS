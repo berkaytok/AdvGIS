{
 "cells": [
  {
   "cell_type": "markdown",
   "metadata": {},
   "source": [
    "## IMPORTING"
   ]
  },
  {
   "cell_type": "code",
   "execution_count": null,
   "metadata": {
    "collapsed": true
   },
   "outputs": [],
   "source": [
    "import geopandas as gpd\n",
    "import fiona\n",
    "import folium\n",
    "import geopy\n",
    "\n",
    "path = r'/Users/berkaytok/DataspellProjects/AdvGIS/data/Shelby.gdb.zip'\n",
    "\n",
    "df = gpd.read_file(path, driver='FileGDB', layer=0)\n",
    "fiona.listlayers(path)"
   ]
  },
  {
   "cell_type": "code",
   "execution_count": null,
   "metadata": {
    "collapsed": false,
    "pycharm": {
     "name": "#%%\n"
    }
   },
   "outputs": [],
   "source": [
    "county = gpd.read_file(path, driver='FileGDB', layer='County_shelby')\n",
    "schools = gpd.read_file(path, driver='FileGDB', layer='School_shelby')\n",
    "libraries = gpd.read_file(path, driver='FileGDB', layer='Library_shelby')\n",
    "parks = gpd.read_file(path, driver='FileGDB', layer='Parks_shelby')\n",
    "fire = gpd.read_file(path, driver='FileGDB', layer='Fire_shelby')\n",
    "law = gpd.read_file(path, driver='FileGDB', layer='Law_Enforcement_shelby')\n",
    "libraries = gpd.read_file(path, driver='FileGDB', layer='Library_shelby')"
   ]
  },
  {
   "cell_type": "markdown",
   "metadata": {},
   "source": [
    "#### SUBSETTING ROWS"
   ]
  },
  {
   "cell_type": "code",
   "execution_count": null,
   "metadata": {},
   "outputs": [],
   "source": [
    "parks.head(15)\n",
    "parks[parks[\"NAME\"] == \"May Soccer Complex\"]"
   ]
  },
  {
   "cell_type": "code",
   "execution_count": null,
   "metadata": {
    "collapsed": false,
    "pycharm": {
     "name": "#%%\n"
    }
   },
   "outputs": [],
   "source": [
    "# distance(): returns Series with minimum distance from each entry to other\n",
    "# check distances of schools to parks\n",
    "#schools.distance(parks).head()\n",
    "# check distances of law to parks\n",
    "law.distance(parks).head()"
   ]
  },
  {
   "cell_type": "code",
   "execution_count": null,
   "metadata": {
    "collapsed": false,
    "pycharm": {
     "name": "#%%\n"
    }
   },
   "outputs": [],
   "source": [
    "# Returns a GeoSeries of points for each geometric centroid\n",
    "parks.centroid.plot()"
   ]
  },
  {
   "cell_type": "code",
   "execution_count": null,
   "metadata": {
    "collapsed": false,
    "pycharm": {
     "name": "#%%\n"
    }
   },
   "outputs": [],
   "source": [
    "# Returns a GeoSeries of (cheaply computed) points that are guaranteed to be within each geometry\n",
    "schools.representative_point()"
   ]
  },
  {
   "cell_type": "code",
   "execution_count": null,
   "metadata": {
    "collapsed": false,
    "pycharm": {
     "name": "#%%\n"
    }
   },
   "outputs": [],
   "source": [
    "# check coordinate system\n",
    "schools.crs\n",
    "county.crs"
   ]
  },
  {
   "cell_type": "code",
   "execution_count": null,
   "metadata": {
    "collapsed": false,
    "pycharm": {
     "name": "#%%\n"
    }
   },
   "outputs": [],
   "source": [
    "# reproject to WGS84\n",
    "schoolswgs = schools.to_crs(3857)\n"
   ]
  },
  {
   "cell_type": "code",
   "execution_count": null,
   "metadata": {},
   "outputs": [],
   "source": [
    "# plot\n",
    "schools.plot()\n"
   ]
  },
  {
   "cell_type": "code",
   "execution_count": null,
   "metadata": {},
   "outputs": [],
   "source": [
    "# almost equals\n",
    "schoolswgs.geom_almost_equals(schools)"
   ]
  },
  {
   "cell_type": "markdown",
   "metadata": {},
   "source": [
    "## INTERACTIVE MAPPING"
   ]
  },
  {
   "cell_type": "code",
   "execution_count": null,
   "metadata": {
    "collapsed": false,
    "pycharm": {
     "name": "#%%\n"
    }
   },
   "outputs": [],
   "source": [
    "county.explore()"
   ]
  },
  {
   "cell_type": "markdown",
   "metadata": {},
   "source": [
    "## MAP OF SHELBY COUNTY PARKS COLORED BY PARKING AREA PER AREA TOTAL"
   ]
  },
  {
   "cell_type": "code",
   "execution_count": null,
   "metadata": {},
   "outputs": [],
   "source": [
    "# Shelby County Parks by parking space per area and police stations in Shelby County, TN\n",
    "m = parks.explore(\n",
    "     column=parks[\"PARKING_AREA\"] / parks[\"Shape_Area\"],  # make choropleth based on \"BoroName\" column\n",
    "     scheme=\"quantiles\",  # use mapclassify's natural breaks scheme\n",
    "     legend=True, # show legend\n",
    "     k=10, # use 10 bins\n",
    "     legend_kwds=dict(colorbar=False), # do not use colorbar\n",
    "     name=\"parks\" # name of the layer in the map\n",
    ")\n",
    "law.explore(\n",
    "     m=m, # pass the map object\n",
    "     color=\"red\", # use red color on all points\n",
    "     marker_kwds=dict(radius=10, fill=True), # make marker radius 10px with fill\n",
    "     tooltip=\"FACILITY_NAME\", # show \"name\" column in the tooltip\n",
    "     tooltip_kwds=dict(labels=False), # do not show column label in the tooltip\n",
    "     name=\"law enforcement\" # name of the layer in the map\n",
    ")\n",
    "folium.TileLayer('Stamen Toner', control=True).add_to(m)  # use folium to add alternative tiles\n",
    "folium.LayerControl().add_to(m)  # use folium to add layer control\n",
    "\n",
    "m    "
   ]
  },
  {
   "cell_type": "markdown",
   "metadata": {},
   "source": [
    "## GEOMETRIC MANIPULATIONS\n",
    "#### OVERLAY/INTERSECTION"
   ]
  },
  {
   "cell_type": "code",
   "execution_count": null,
   "metadata": {},
   "outputs": [],
   "source": [
    "ax = parks.overlay(county, how='intersection').plot()\n",
    "parks.plot(ax=ax, color='red', zorder=2)\n",
    "county.plot(ax=ax, zorder=1)"
   ]
  },
  {
   "cell_type": "markdown",
   "metadata": {},
   "source": [
    "#### DISSOLVE"
   ]
  },
  {
   "cell_type": "code",
   "execution_count": null,
   "metadata": {},
   "outputs": [],
   "source": [
    "# dissolving the parks by the pavement type\n",
    "parks.dissolve(by='PARKING_SURFMAT').plot()"
   ]
  },
  {
   "cell_type": "markdown",
   "metadata": {},
   "source": [
    "## SPATIAL JOINS"
   ]
  },
  {
   "cell_type": "code",
   "execution_count": null,
   "metadata": {},
   "outputs": [],
   "source": [
    "# law enforcement inside Shelby County parks;\n",
    "parklaw = law.sjoin(parks, how=\"inner\", predicate='intersects')\n",
    "parkgrp = parklaw.groupby(['NAME']).count()\n",
    "parkgrp"
   ]
  },
  {
   "cell_type": "markdown",
   "metadata": {},
   "source": [
    "## GEOCODING"
   ]
  },
  {
   "cell_type": "code",
   "execution_count": null,
   "metadata": {},
   "outputs": [],
   "source": [
    "# using the geocoding tool\n",
    "shelby = parks.NAME.head()\n",
    "geocoded = gpd.tools.geocode(shelby)\n",
    "shelby\n"
   ]
  },
  {
   "cell_type": "code",
   "execution_count": null,
   "metadata": {},
   "outputs": [],
   "source": [
    "# results are incorrect due to insufficient location names but geocoder works\n",
    "geocoded"
   ]
  },
  {
   "cell_type": "code",
   "execution_count": null,
   "metadata": {},
   "outputs": [],
   "source": [
    "shelbycounty = gpd.read_file('/Users/berkaytok/DataspellProjects/AdvGIS/data/tl_2019_47157_faces/tl_2019_47157_faces.shp')"
   ]
  },
  {
   "cell_type": "code",
   "execution_count": 65,
   "metadata": {},
   "outputs": [
    {
     "data": {
      "text/html": [
       "<div>\n",
       "<style scoped>\n",
       "    .dataframe tbody tr th:only-of-type {\n",
       "        vertical-align: middle;\n",
       "    }\n",
       "\n",
       "    .dataframe tbody tr th {\n",
       "        vertical-align: top;\n",
       "    }\n",
       "\n",
       "    .dataframe thead th {\n",
       "        text-align: right;\n",
       "    }\n",
       "</style>\n",
       "<table border=\"1\" class=\"dataframe\">\n",
       "  <thead>\n",
       "    <tr style=\"text-align: right;\">\n",
       "      <th></th>\n",
       "      <th>TFID</th>\n",
       "      <th>ATOTAL</th>\n",
       "    </tr>\n",
       "    <tr>\n",
       "      <th>TRACTCE10</th>\n",
       "      <th></th>\n",
       "      <th></th>\n",
       "    </tr>\n",
       "  </thead>\n",
       "  <tbody>\n",
       "    <tr>\n",
       "      <th>000100</th>\n",
       "      <td>47357228904</td>\n",
       "      <td>6735739</td>\n",
       "    </tr>\n",
       "    <tr>\n",
       "      <th>000200</th>\n",
       "      <td>8211954595</td>\n",
       "      <td>1102094</td>\n",
       "    </tr>\n",
       "    <tr>\n",
       "      <th>000300</th>\n",
       "      <td>10769701249</td>\n",
       "      <td>2881280</td>\n",
       "    </tr>\n",
       "    <tr>\n",
       "      <th>000400</th>\n",
       "      <td>18225501599</td>\n",
       "      <td>2367982</td>\n",
       "    </tr>\n",
       "    <tr>\n",
       "      <th>000600</th>\n",
       "      <td>15773232126</td>\n",
       "      <td>5092785</td>\n",
       "    </tr>\n",
       "    <tr>\n",
       "      <th>...</th>\n",
       "      <td>...</td>\n",
       "      <td>...</td>\n",
       "    </tr>\n",
       "    <tr>\n",
       "      <th>022700</th>\n",
       "      <td>18559957990</td>\n",
       "      <td>8300707</td>\n",
       "    </tr>\n",
       "    <tr>\n",
       "      <th>980100</th>\n",
       "      <td>38218023724</td>\n",
       "      <td>19126877</td>\n",
       "    </tr>\n",
       "    <tr>\n",
       "      <th>980200</th>\n",
       "      <td>18051502312</td>\n",
       "      <td>45515855</td>\n",
       "    </tr>\n",
       "    <tr>\n",
       "      <th>980300</th>\n",
       "      <td>18059981316</td>\n",
       "      <td>102521374</td>\n",
       "    </tr>\n",
       "    <tr>\n",
       "      <th>980400</th>\n",
       "      <td>21562595193</td>\n",
       "      <td>18232658</td>\n",
       "    </tr>\n",
       "  </tbody>\n",
       "</table>\n",
       "<p>221 rows × 2 columns</p>\n",
       "</div>"
      ],
      "text/plain": [
       "                  TFID     ATOTAL\n",
       "TRACTCE10                        \n",
       "000100     47357228904    6735739\n",
       "000200      8211954595    1102094\n",
       "000300     10769701249    2881280\n",
       "000400     18225501599    2367982\n",
       "000600     15773232126    5092785\n",
       "...                ...        ...\n",
       "022700     18559957990    8300707\n",
       "980100     38218023724   19126877\n",
       "980200     18051502312   45515855\n",
       "980300     18059981316  102521374\n",
       "980400     21562595193   18232658\n",
       "\n",
       "[221 rows x 2 columns]"
      ]
     },
     "execution_count": 65,
     "metadata": {},
     "output_type": "execute_result"
    }
   ],
   "source": [
    "shelbycounty.groupby(['TRACTCE10'])"
   ]
  }
 ],
 "metadata": {
  "kernelspec": {
   "display_name": "Python 3",
   "language": "python",
   "name": "python3"
  },
  "language_info": {
   "codemirror_mode": {
    "name": "ipython",
    "version": 3
   },
   "file_extension": ".py",
   "mimetype": "text/x-python",
   "name": "python",
   "nbconvert_exporter": "python",
   "pygments_lexer": "ipython3",
   "version": "3.10.0"
  }
 },
 "nbformat": 4,
 "nbformat_minor": 0
}
