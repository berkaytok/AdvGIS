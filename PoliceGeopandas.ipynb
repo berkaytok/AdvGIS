{
 "cells": [
  {
   "cell_type": "code",
   "execution_count": null,
   "metadata": {
    "collapsed": true,
    "pycharm": {
     "name": "#%%\n"
    }
   },
   "outputs": [],
   "source": [
    "import geopandas as gpd\n",
    "graf = gpd.read_file(r\"E:\\Dataspell Projects E\\AdvancedGIS\\data1\\PoliceData.gdb\", driver='fileGDB', layer=\"GraffitiIncidents\")\n",
    "pz = gpd.read_file(r\"E:\\Dataspell Projects E\\AdvancedGIS\\data1\\PoliceData.gdb\", driver='fileGDB', layer=\"PatrolZones\")"
   ]
  },
  {
   "cell_type": "code",
   "execution_count": null,
   "metadata": {},
   "outputs": [],
   "source": [
    "# join point to polygon, group by name and count and assign these values to patrol zone INCIDENTS column\n",
    "pz[\"INCIDENTS\"] = gpd.sjoin(graf, pz, how=\"inner\", predicate=\"within\").groupby([\"NAME\"]).size().reset_index(name=\"incidentsPerZone\")[\"incidentsPerZone\"].copy()"
   ]
  },
  {
   "cell_type": "code",
   "execution_count": null,
   "metadata": {},
   "outputs": [],
   "source": [
    "# calculate and assign priority to each zone\n",
    "pz.loc[pz[\"INCIDENTS\"] / (pz[\"SHAPE_Area\"] / 2589988.11) > 15, \"PRIORITY\"] = \"TOP CONCERN\"    \n",
    "pz.loc[(pz[\"INCIDENTS\"] / (pz[\"SHAPE_Area\"] / 2589988.11) < 15) & (pz[\"INCIDENTS\"] / (pz[\"SHAPE_Area\"] / 2589988.11) >= 12), \"PRIORITY\"] = \"HIGH CONCERN\"    \n",
    "pz.loc[(pz[\"INCIDENTS\"] / (pz[\"SHAPE_Area\"] / 2589988.11) < 12) & (pz[\"INCIDENTS\"] / (pz[\"SHAPE_Area\"] / 2589988.11) >= 6), \"PRIORITY\"] = \"MEDIUM CONCERN\"    \n",
    "pz.loc[pz[\"INCIDENTS\"] / (pz[\"SHAPE_Area\"] / 2589988.11) < 6, \"PRIORITY\"] = \"LOW CONCERN\"\n",
    "pz "
   ]
  }
 ],
 "metadata": {
  "kernelspec": {
   "display_name": "Python 3",
   "language": "python",
   "name": "python3"
  },
  "language_info": {
   "codemirror_mode": {
    "name": "ipython",
    "version": 3
   },
   "file_extension": ".py",
   "mimetype": "text/x-python",
   "name": "python",
   "nbconvert_exporter": "python",
   "pygments_lexer": "ipython3",
   "version": "3.9.6"
  }
 },
 "nbformat": 4,
 "nbformat_minor": 0
}
