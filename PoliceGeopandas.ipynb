{
 "cells": [
  {
   "cell_type": "code",
   "execution_count": null,
   "metadata": {
    "collapsed": true,
    "pycharm": {
     "name": "#%%\n"
    }
   },
   "outputs": [],
   "source": [
    "import geopandas as gpd\n",
    "import matplotlib.pyplot as plt\n",
    "graf = gpd.read_file(r\"E:\\Dataspell Projects E\\AdvancedGIS\\data1\\PoliceData.gdb\", driver='fileGDB', layer=\"GraffitiIncidents\")\n",
    "pz = gpd.read_file(r\"E:\\Dataspell Projects E\\AdvancedGIS\\data1\\PoliceData.gdb\", driver='fileGDB', layer=\"PatrolZones\")"
   ]
  },
  {
   "cell_type": "code",
   "execution_count": null,
   "metadata": {},
   "outputs": [],
   "source": [
    "# join point to polygon, group by name and count and assign these values to patrol zone INCIDENTS column\n",
    "pz[\"INCIDENTS\"] = gpd.sjoin(graf, pz, how=\"inner\", predicate=\"within\").groupby([\"NAME\"]).size().reset_index(name=\"incidentsPerZone\")[\"incidentsPerZone\"]"
   ]
  },
  {
   "cell_type": "code",
   "execution_count": null,
   "metadata": {},
   "outputs": [],
   "source": [
    "# calculate and assign priority to each zone\n",
    "incRate = pz[\"INCIDENTS\"] / (pz[\"SHAPE_Area\"] / 2589988.11)\n",
    "pz.loc[incRate > 15, \"PRIORITY\"] = \"TOP CONCERN\"    \n",
    "pz.loc[(incRate < 15) & (incRate >= 12), \"PRIORITY\"] = \"HIGH CONCERN\"    \n",
    "pz.loc[(incRate < 12) & (incRate >= 6), \"PRIORITY\"] = \"MEDIUM CONCERN\"    \n",
    "pz.loc[incRate < 6, \"PRIORITY\"] = \"LOW CONCERN\"\n",
    "pz"
   ]
  },
  {
   "cell_type": "code",
   "execution_count": null,
   "metadata": {},
   "outputs": [],
   "source": [
    "pz[\"center\"] = pz[\"geometry\"].centroid\n",
    "pz_points = pz.copy()\n",
    "pz_points.set_geometry(\"center\", inplace=True)"
   ]
  },
  {
   "cell_type": "code",
   "execution_count": null,
   "metadata": {},
   "outputs": [],
   "source": [
    "ax = pz.plot(column=\"PRIORITY\", figsize = (15, 12), cmap=\"Accent\", edgecolor = \"lightgrey\", linewidth = 0.5)\n",
    "texts = []\n",
    "\n",
    "for x, y, label in zip(pz_points.geometry.x, pz_points.geometry.y, pz_points[\"PRIORITY\"]):\n",
    "    texts.append(plt.text(x, y, label, fontsize = 8))"
   ]
  }
 ],
 "metadata": {
  "kernelspec": {
   "display_name": "Python 3",
   "language": "python",
   "name": "python3"
  },
  "language_info": {
   "codemirror_mode": {
    "name": "ipython",
    "version": 3
   },
   "file_extension": ".py",
   "mimetype": "text/x-python",
   "name": "python",
   "nbconvert_exporter": "python",
   "pygments_lexer": "ipython3",
   "version": "3.9.6"
  }
 },
 "nbformat": 4,
 "nbformat_minor": 0
}
